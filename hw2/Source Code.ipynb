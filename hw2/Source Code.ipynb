{
 "cells": [
  {
   "cell_type": "code",
   "execution_count": 2,
   "metadata": {},
   "outputs": [],
   "source": [
    "import cv2\n",
    "import numpy\n",
    "import matplotlib.pyplot as plt"
   ]
  },
  {
   "cell_type": "code",
   "execution_count": 3,
   "metadata": {},
   "outputs": [
    {
     "data": {
      "text/plain": [
       "True"
      ]
     },
     "execution_count": 3,
     "metadata": {},
     "output_type": "execute_result"
    }
   ],
   "source": [
    "img = cv2.imread('lena.bmp', cv2.IMREAD_GRAYSCALE)\n",
    "for i in range(img.shape[1]):\n",
    "    for j in range(img.shape[0]):\n",
    "        img[i,j] =  0 if img[i,j] < 128 else 255\n",
    "cv2.imshow('binary',img)\n",
    "cv2.waitKey(0)\n",
    "cv2.destroyAllWindows()\n",
    "cv2.imwrite('Binarize.png',img)"
   ]
  },
  {
   "cell_type": "code",
   "execution_count": 10,
   "metadata": {},
   "outputs": [
    {
     "data": {
      "image/png": "[encoded data removed]",
      "text/plain": [
       "<Figure size 640x480 with 1 Axes>"
      ]
     },
     "metadata": {},
     "output_type": "display_data"
    }
   ],
   "source": [
    "bin = cv2.imread('lena.bmp', cv2.IMREAD_GRAYSCALE)\n",
    "count = [0] * 256\n",
    "for i in range(img.shape[1]):\n",
    "    for j in range(img.shape[0]):\n",
    "        count[bin[i,j]] = count[bin[i,j]] + 1\n",
    "\n",
    "plt.hist([i for i in range(0,256)],weights=count,bins=256)\n",
    "plt.savefig(\"histogram\")"
   ]
  },
  {
   "cell_type": "code",
   "execution_count": 5,
   "metadata": {},
   "outputs": [],
   "source": [
    "\n",
    "#four connected\n",
    "img = cv2.imread('Binarize.png', cv2.IMREAD_GRAYSCALE)\n",
    "# start with 1\n",
    "region_label = 1\n",
    "region_pixel_count = {}\n",
    "region_sets = {}\n",
    "img = img.astype('int64')\n",
    "# first pass\n",
    "for row in range(img.shape[1]):\n",
    "    for col in range(img.shape[0]):\n",
    "        # print(row,col)\n",
    "        if img[row,col] == 0:\n",
    "            continue\n",
    "        left = img[row,col-1]\n",
    "        up = img[row-1,col]\n",
    "        if col > 0 and left != 0:\n",
    "            img[row,col] = left\n",
    "            region_pixel_count[img[row,col]] = region_pixel_count[img[row,col]] + 1 \n",
    "        elif row > 0 and up != 0:\n",
    "            img[row,col] = up\n",
    "            region_pixel_count[img[row,col]] = region_pixel_count[img[row,col]] + 1\n",
    "        else:\n",
    "            img[row,col] = region_label\n",
    "            region_sets[region_label] = {region_label}\n",
    "            region_pixel_count[region_label] = 1\n",
    "            region_label = region_label + 1\n",
    "                        \n",
    "        if row > 0 and col > 0 and left != 0 and up != 0 and left != up:\n",
    "            uset = region_sets[left].union(region_sets[up])\n",
    "            for sid in uset:\n",
    "                region_sets[sid] = uset"
   ]
  },
  {
   "cell_type": "code",
   "execution_count": 6,
   "metadata": {},
   "outputs": [],
   "source": [
    "# second pass\n",
    "for row in range(img.shape[1]):\n",
    "    for col in range(img.shape[0]):\n",
    "        if img[row,col] == 0:\n",
    "            continue\n",
    "        reg = img[row,col]\n",
    "        root_set = min(region_sets[reg])\n",
    "        if reg != root_set :\n",
    "            img[row,col] = root_set\n",
    "            \n",
    "for reg in list(region_sets.keys()):\n",
    "    root_set = min(region_sets[reg])\n",
    "    if  root_set != reg:\n",
    "        # print(root_set,reg)\n",
    "        region_pixel_count[root_set] = region_pixel_count[root_set] + region_pixel_count[reg]\n",
    "        region_pixel_count.pop(reg)\n",
    "        region_sets.pop(reg)\n",
    "\n",
    "# filter\n",
    "MIN_PIXEL = 500\n",
    "for reg in list(region_pixel_count.keys()):\n",
    "    if region_pixel_count[reg] < MIN_PIXEL:\n",
    "        region_pixel_count.pop(reg)\n",
    "        region_sets.pop(reg)"
   ]
  },
  {
   "cell_type": "code",
   "execution_count": 7,
   "metadata": {},
   "outputs": [],
   "source": [
    "# boundary box \n",
    "b_top = {}\n",
    "b_bottom = {}\n",
    "b_left = {}\n",
    "b_right = {}\n",
    "for row in range(img.shape[1]):\n",
    "    for col in range(img.shape[0]):\n",
    "        reg = img[row,col]\n",
    "        if reg == 0 or reg not in region_sets.keys():\n",
    "            continue        \n",
    "        if reg not in b_top.keys():\n",
    "            b_top[reg] = b_bottom[reg] = row\n",
    "            b_left[reg] = b_right[reg] = col\n",
    "        else:\n",
    "            b_top[reg] = min(b_top[reg],row)\n",
    "            b_bottom[reg] = max(b_bottom[reg],row)\n",
    "            b_left[reg] = min(b_left[reg],col)\n",
    "            b_right[reg] = max(b_right[reg],col)\\\n",
    "\n",
    "            "
   ]
  },
  {
   "cell_type": "code",
   "execution_count": 8,
   "metadata": {},
   "outputs": [],
   "source": [
    "#centroid\n",
    "row_pixel_count = {}\n",
    "c_row = {}\n",
    "for reg in region_sets.keys():\n",
    "    c_row[reg] = 0\n",
    "for row in range(img.shape[1]):\n",
    "    for reg in region_sets.keys():\n",
    "        row_pixel_count[reg] = 0\n",
    "    for col in range(img.shape[0]): \n",
    "        reg = img[row,col]\n",
    "        if reg == 0 or reg not in region_sets.keys():\n",
    "            continue\n",
    "        row_pixel_count[reg] = row_pixel_count[reg] + 1\n",
    "    for reg in region_pixel_count.keys():\n",
    "        c_row[reg] = c_row[reg] + (row_pixel_count[reg] * row) / region_pixel_count[reg]\n",
    "    \n",
    "        \n",
    "col_pixel_count = {} \n",
    "c_col = {}\n",
    "for reg in region_sets.keys():\n",
    "    c_col[reg] = 0\n",
    "for col in range(img.shape[0]):\n",
    "    for reg in region_sets.keys():\n",
    "        col_pixel_count[reg] = 0\n",
    "    for row in range(img.shape[1]): \n",
    "        reg = img[row,col]\n",
    "        if reg == 0 or reg not in region_sets.keys():\n",
    "            continue\n",
    "        col_pixel_count[reg] = col_pixel_count[reg] + 1\n",
    "    for reg in region_pixel_count.keys():\n",
    "        c_col[reg] = c_col[reg] + (col_pixel_count[reg] * col) / region_pixel_count[reg]"
   ]
  },
  {
   "cell_type": "code",
   "execution_count": 9,
   "metadata": {},
   "outputs": [
    {
     "data": {
      "text/plain": [
       "True"
      ]
     },
     "execution_count": 9,
     "metadata": {},
     "output_type": "execute_result"
    }
   ],
   "source": [
    "result = cv2.imread('Binarize.png')\n",
    "for reg in region_sets.keys():\n",
    "    cv2.rectangle(result,(b_left[reg],b_top[reg]),(b_right[reg],b_bottom[reg]),(255,0,0),3)\n",
    "    cv2.circle(result,(int(c_col[reg]),int(c_row[reg])),1,(0,0,255),5)\n",
    "cv2.imshow('result',result)\n",
    "cv2.waitKey(0)\n",
    "cv2.destroyAllWindows()\n",
    "cv2.imwrite('result.png',result)"
   ]
  },
  {
   "cell_type": "code",
   "execution_count": null,
   "metadata": {},
   "outputs": [],
   "source": []
  }
 ],
 "metadata": {
  "kernelspec": {
   "display_name": "Python 3.11.4 ('cv')",
   "language": "python",
   "name": "python3"
  },
  "language_info": {
   "codemirror_mode": {
    "name": "ipython",
    "version": 3
   },
   "file_extension": ".py",
   "mimetype": "text/x-python",
   "name": "python",
   "nbconvert_exporter": "python",
   "pygments_lexer": "ipython3",
   "version": "3.11.4"
  },
  "orig_nbformat": 4,
  "vscode": {
   "interpreter": {
    "hash": "a5a87380f3f6112cf5bd2ea5aea77869da22be1b41f0d1f3e27d41f9d3268dfa"
   }
  }
 },
 "nbformat": 4,
 "nbformat_minor": 2
}
