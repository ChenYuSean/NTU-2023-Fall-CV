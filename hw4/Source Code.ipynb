{
 "cells": [
  {
   "cell_type": "code",
   "execution_count": 5,
   "metadata": {},
   "outputs": [],
   "source": [
    "\n",
    "import cv2\n",
    "import numpy as np\n",
    "import matplotlib.pyplot as plt"
   ]
  },
  {
   "cell_type": "code",
   "execution_count": 6,
   "metadata": {},
   "outputs": [],
   "source": [
    "img = cv2.imread('lena.bmp', cv2.IMREAD_GRAYSCALE)\n",
    "for i in range(img.shape[1]):\n",
    "    for j in range(img.shape[0]):\n",
    "        img[i,j] =  0 if img[i,j] < 128 else 255\n",
    "kernel = [[0, 1, 1, 1, 0],\n",
    "          [1, 1, 1, 1, 1],\n",
    "          [1, 1, 1, 1, 1],\n",
    "          [1, 1, 1, 1, 1],\n",
    "          [0, 1, 1, 1, 0]]\n",
    "kernel = np.asarray(kernel,dtype=np.int32)"
   ]
  },
  {
   "cell_type": "code",
   "execution_count": 7,
   "metadata": {},
   "outputs": [
    {
     "data": {
      "text/plain": [
       "True"
      ]
     },
     "execution_count": 7,
     "metadata": {},
     "output_type": "execute_result"
    }
   ],
   "source": [
    "def dilation(img, kernel):\n",
    "    res_img = np.zeros(shape=img.shape,dtype=np.uint8)\n",
    "    width = kernel.shape[0]\n",
    "    height = kernel.shape[1]\n",
    "    center = (height//2,width//2)\n",
    "    for row in range(img.shape[0]):\n",
    "        for col in range(img.shape[1]):\n",
    "            res_img[row,col] = img[row,col]\n",
    "            if img[row,col] != 255 :\n",
    "                continue\n",
    "            # kernel\n",
    "            for krow in range(kernel.shape[0]):\n",
    "                for kcol in range(kernel.shape[1]):\n",
    "                    if kernel[krow,kcol] != 1:\n",
    "                        continue\n",
    "                    x = row + krow-center[0]\n",
    "                    y = col + kcol-center[1]\n",
    "                    if x < 0 or y < 0 or x >= img.shape[0] or y >= img.shape[1]:\n",
    "                        continue\n",
    "                    res_img[x,y] = 255\n",
    "                    \n",
    "    return res_img\n",
    "                        \n",
    "                \n",
    "dilation_img = dilation(img,kernel)\n",
    "cv2.imshow(\"Dilation\",dilation_img)\n",
    "cv2.waitKey()\n",
    "cv2.imwrite(\"Dilation.png\",dilation_img)"
   ]
  },
  {
   "cell_type": "code",
   "execution_count": 30,
   "metadata": {},
   "outputs": [
    {
     "data": {
      "text/plain": [
       "True"
      ]
     },
     "execution_count": 30,
     "metadata": {},
     "output_type": "execute_result"
    }
   ],
   "source": [
    "def erosion(img, kernel):\n",
    "    res_img = np.ones(shape=img.shape,dtype=np.uint8)\n",
    "    width = kernel.shape[0]\n",
    "    height = kernel.shape[1]\n",
    "    center = (height//2,width//2)\n",
    "    for row in range(img.shape[0]):\n",
    "        for col in range(img.shape[1]):\n",
    "            res_img[row,col] = img[row,col]\n",
    "            # kernel\n",
    "            val = 255\n",
    "            for krow in range(kernel.shape[0]):\n",
    "                for kcol in range(kernel.shape[1]):\n",
    "                    if kernel[krow,kcol] != 1:\n",
    "                        continue\n",
    "                    x = row + krow-center[0]\n",
    "                    y = col + kcol-center[1]\n",
    "                    if x < 0 or y < 0 or x >= img.shape[0] or y >= img.shape[1]:\n",
    "                        val = 0\n",
    "                        break\n",
    "                    if img[x,y] == 0:\n",
    "                        val = 0\n",
    "                        break\n",
    "            res_img[row,col] = val\n",
    "                    \n",
    "    return res_img\n",
    "                        \n",
    "                \n",
    "erosion_img = erosion(img,kernel)\n",
    "cv2.imshow(\"Erosion\",erosion_img)\n",
    "cv2.waitKey()\n",
    "cv2.imwrite(\"Erosion.png\",erosion_img)"
   ]
  },
  {
   "cell_type": "code",
   "execution_count": 10,
   "metadata": {},
   "outputs": [
    {
     "data": {
      "text/plain": [
       "True"
      ]
     },
     "execution_count": 10,
     "metadata": {},
     "output_type": "execute_result"
    }
   ],
   "source": [
    "opening_img = dilation(erosion_img,kernel)\n",
    "cv2.imshow(\"Opening\",opening_img)\n",
    "cv2.waitKey()\n",
    "cv2.imwrite(\"Opening.png\",opening_img)\n",
    "closing_img = erosion(dilation_img,kernel)\n",
    "cv2.imshow(\"Closing\",closing_img)\n",
    "cv2.waitKey()\n",
    "cv2.imwrite(\"Closing.png\",closing_img)"
   ]
  },
  {
   "cell_type": "code",
   "execution_count": 31,
   "metadata": {},
   "outputs": [
    {
     "data": {
      "text/plain": [
       "True"
      ]
     },
     "execution_count": 31,
     "metadata": {},
     "output_type": "execute_result"
    }
   ],
   "source": [
    "J = [[0, 0, 0],\n",
    "     [1, 1, 0],\n",
    "     [0, 1, 0]]\n",
    "K = [[0, 1, 1],\n",
    "     [0, 0, 1],\n",
    "     [0, 0, 0]]\n",
    "J = np.asarray(J,dtype=np.uint8)\n",
    "K = np.asarray(K,dtype=np.uint8)\n",
    "\n",
    "def hit_and_miss(img,ker1,ker2):\n",
    "     inv_img = np.zeros(shape=img.shape)\n",
    "     res_img = np.zeros(shape=img.shape)\n",
    "     for i in range(img.shape[0]):\n",
    "          for j in range(img.shape[1]):\n",
    "               inv_img[i,j] = 0 if img[i,j] == 255 else 255\n",
    "     A = erosion(img,ker1)\n",
    "     B = erosion(inv_img,ker2)\n",
    "     for row in range(img.shape[0]):\n",
    "          for col in range(img.shape[1]):\n",
    "               if (A[row,col] == 255 and B[row,col] == 255):\n",
    "                    res_img[row,col] = 255\n",
    "     return res_img\n",
    "\n",
    "HMimg = hit_and_miss(img,J,K)\n",
    "cv2.imshow(\"Hit and Miss\",HMimg)\n",
    "cv2.waitKey()\n",
    "cv2.imwrite(\"Hit and Miss.png\",HMimg)"
   ]
  },
  {
   "cell_type": "code",
   "execution_count": null,
   "metadata": {},
   "outputs": [],
   "source": []
  }
 ],
 "metadata": {
  "kernelspec": {
   "display_name": "Python 3.11.4 ('cv')",
   "language": "python",
   "name": "python3"
  },
  "language_info": {
   "codemirror_mode": {
    "name": "ipython",
    "version": 3
   },
   "file_extension": ".py",
   "mimetype": "text/x-python",
   "name": "python",
   "nbconvert_exporter": "python",
   "pygments_lexer": "ipython3",
   "version": "3.11.4"
  },
  "orig_nbformat": 4,
  "vscode": {
   "interpreter": {
    "hash": "a5a87380f3f6112cf5bd2ea5aea77869da22be1b41f0d1f3e27d41f9d3268dfa"
   }
  }
 },
 "nbformat": 4,
 "nbformat_minor": 2
}
