{
 "cells": [
  {
   "cell_type": "code",
   "execution_count": 1,
   "metadata": {},
   "outputs": [],
   "source": [
    "import cv2\n",
    "import numpy as np\n",
    "import matplotlib.pyplot as plt"
   ]
  },
  {
   "cell_type": "code",
   "execution_count": 7,
   "metadata": {},
   "outputs": [],
   "source": [
    "raw_img = cv2.imread('lena.bmp', cv2.IMREAD_GRAYSCALE)"
   ]
  },
  {
   "cell_type": "code",
   "execution_count": 16,
   "metadata": {},
   "outputs": [
    {
     "data": {
      "text/plain": [
       "-1"
      ]
     },
     "execution_count": 16,
     "metadata": {},
     "output_type": "execute_result"
    }
   ],
   "source": [
    "def Binarize(img):\n",
    "    ret = np.zeros_like(img)\n",
    "    for i in range(img.shape[1]):\n",
    "        for j in range(img.shape[0]):\n",
    "            ret[i,j] =  0 if img[i,j] < 128 else 255\n",
    "    return ret\n",
    "        \n",
    "def DownSample(img):\n",
    "    ret = np.zeros(shape=(64,64))\n",
    "    for i in range(64):\n",
    "        for j in range(64):\n",
    "            ret[i,j] = img[i*8,j*8]\n",
    "    return ret"
   ]
  },
  {
   "cell_type": "code",
   "execution_count": 18,
   "metadata": {},
   "outputs": [],
   "source": [
    "def Yokoi(img):\n",
    "    def h(b,c,d,e):\n",
    "        if b == c and (d != b or e != b):\n",
    "            return 'q'\n",
    "        if b == c and (d == b and e == b):\n",
    "            return 'r'\n",
    "        if b != c:\n",
    "            return 's'\n",
    "    def f(a1,a2,a3,a4):\n",
    "        if(a1 == a2 and a2 == a3 and a3 == a4 and a4 == 'r'):\n",
    "            return 5\n",
    "        else:\n",
    "            return [a1,a2,a3,a4].count('q')\n",
    "        \n",
    "    ret = np.zeros(shape=(64,64))\n",
    "    for row in range(img.shape[0]):\n",
    "        for col in range(img.shape[1]):\n",
    "            if img[row,col] == 255:\n",
    "                x0 = img[row,col]\n",
    "                x1 = img[row,col+1] if col+1 < img.shape[1] else 0\n",
    "                x2 = img[row-1,col] if row-1 >= 0 else 0\n",
    "                x3 = img[row,col-1] if col-1 >= 0 else 0\n",
    "                x4 = img[row+1,col] if row+1 < img.shape[0] else 0\n",
    "                x5 = img[row+1,col+1] if row+1 < img.shape[0] and col+1 < img.shape[1] else 0\n",
    "                x6 = img[row-1,col+1] if row-1 >= 0 and col+1 < img.shape[1] else 0\n",
    "                x7 = img[row-1,col-1] if row-1 >= 0 and col-1 >= 0 else 0\n",
    "                x8 = img[row+1,col-1] if row+1 < img.shape[0] and col-1 >= 0 else 0\n",
    "                a1 = h(x0,x1,x6,x2)\n",
    "                a2 = h(x0,x2,x7,x3)\n",
    "                a3 = h(x0,x3,x8,x4)\n",
    "                a4 = h(x0,x4,x5,x1)\n",
    "                ret[row,col] = f(a1,a2,a3,a4)\n",
    "    return ret\n",
    "        "
   ]
  },
  {
   "cell_type": "code",
   "execution_count": 19,
   "metadata": {},
   "outputs": [],
   "source": [
    "img = Binarize(raw_img)\n",
    "img = DownSample(img)\n",
    "YokoiMatrix = Yokoi(img)"
   ]
  },
  {
   "cell_type": "code",
   "execution_count": 55,
   "metadata": {},
   "outputs": [],
   "source": [
    "matrix_list = YokoiMatrix.astype(int).tolist()\n",
    "for i in range(len(matrix_list)):\n",
    "    for j in range(len(matrix_list[i])):\n",
    "        if matrix_list [i][j] == 0:\n",
    "            matrix_list[i][j] = ' '\n",
    "        else :\n",
    "            matrix_list[i][j] = str(matrix_list[i][j])\n",
    "\n",
    "output = []\n",
    "for line in matrix_list:\n",
    "    line.append('\\n')\n",
    "    output.append(''.join(line))\n",
    "with open('./output.txt','w') as f:\n",
    "    f.writelines(output)"
   ]
  }
 ],
 "metadata": {
  "kernelspec": {
   "display_name": "Python 3.11.4 ('cv')",
   "language": "python",
   "name": "python3"
  },
  "language_info": {
   "codemirror_mode": {
    "name": "ipython",
    "version": 3
   },
   "file_extension": ".py",
   "mimetype": "text/x-python",
   "name": "python",
   "nbconvert_exporter": "python",
   "pygments_lexer": "ipython3",
   "version": "3.11.4"
  },
  "orig_nbformat": 4,
  "vscode": {
   "interpreter": {
    "hash": "a5a87380f3f6112cf5bd2ea5aea77869da22be1b41f0d1f3e27d41f9d3268dfa"
   }
  }
 },
 "nbformat": 4,
 "nbformat_minor": 2
}
