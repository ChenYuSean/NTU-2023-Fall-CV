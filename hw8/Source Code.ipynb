{
 "cells": [
  {
   "cell_type": "code",
   "execution_count": 1,
   "metadata": {},
   "outputs": [],
   "source": [
    "import cv2\n",
    "import numpy as np\n",
    "import os\n",
    "import math\n",
    "import matplotlib.pyplot as plt"
   ]
  },
  {
   "cell_type": "code",
   "execution_count": 25,
   "metadata": {},
   "outputs": [],
   "source": [
    "raw_img = cv2.imread('lena.bmp', cv2.IMREAD_GRAYSCALE)\n",
    "os.makedirs('a', exist_ok=True)\n",
    "os.makedirs('b', exist_ok=True)\n",
    "os.makedirs('c', exist_ok=True)\n",
    "os.makedirs('d', exist_ok=True)\n",
    "os.makedirs('e', exist_ok=True)"
   ]
  },
  {
   "cell_type": "code",
   "execution_count": 3,
   "metadata": {},
   "outputs": [],
   "source": [
    "def GaussNoise(img, mean, sigma, amp):\n",
    "    ret = np.zeros_like(img)\n",
    "    noise = np.random.normal(mean, sigma, img.shape)\n",
    "    for r in range(ret.shape[0]):\n",
    "        for c in range(ret.shape[1]):\n",
    "            ret[r,c] = img[r,c] + amp * noise[r,c]\n",
    "            ret[r,c] = np.clip(ret[r,c], 0, 255)\n",
    "            \n",
    "    return ret.astype(np.uint8)\n",
    "\n",
    "def SaltAndPepperNoise(img, prob):\n",
    "    ret = np.zeros_like(img)\n",
    "    noise = np.random.random(img.shape)\n",
    "    for r in range(ret.shape[0]):\n",
    "        for c in range(ret.shape[1]):\n",
    "            ret[r,c] = 0 if noise[r,c] < prob else 255 if noise[r,c] > 1-prob else img[r,c]\n",
    "    return ret.astype(np.uint8)"
   ]
  },
  {
   "cell_type": "code",
   "execution_count": 4,
   "metadata": {},
   "outputs": [],
   "source": [
    "def box_filter(img, size):\n",
    "    ret = np.zeros_like(img)\n",
    "    kernel = []\n",
    "    for i in range(-(size[0]//2),(size[0]//2)+1):\n",
    "        for j in range(-(size[1]//2),(size[1]//2)+1):\n",
    "            kernel.append([i,j])\n",
    "    weight = 1/(size[0]*size[1]) \n",
    "\n",
    "    for r in range(img.shape[0]):\n",
    "        for c in range(img.shape[1]):\n",
    "            sum = 0\n",
    "            for k in kernel:\n",
    "                if r+k[0] < 0 or r+k[0] >= img.shape[0] or c+k[1] < 0 or c+k[1] >= img.shape[1]:\n",
    "                    break\n",
    "                else:\n",
    "                    sum = sum + img[r+k[0],c+k[1]]\n",
    "            ret[r,c] = sum * weight\n",
    "    return ret.astype(np.uint8)\n",
    "\n",
    "def median_filter(img, size):\n",
    "    ret = np.zeros_like(img)\n",
    "    kernel = []\n",
    "    for i in range(-(size[0]//2),(size[0]//2)+1):\n",
    "        for j in range(-(size[1]//2),(size[1]//2)+1):\n",
    "            kernel.append([i,j])\n",
    "    weight = 1/(size[0]*size[1]) \n",
    "\n",
    "    for r in range(img.shape[1]):\n",
    "        for c in range(img.shape[0]):\n",
    "            val = []\n",
    "            for k in kernel:\n",
    "                if r+k[0] < 0 or r+k[0] >= img.shape[0] or c+k[1] < 0 or c+k[1] >= img.shape[1]:\n",
    "                    break\n",
    "                else:\n",
    "                    val.append(img[r+k[0],c+k[1]])\n",
    "            ret[r,c] = np.median(val)\n",
    "    return ret.astype(np.uint8)"
   ]
  },
  {
   "cell_type": "code",
   "execution_count": 31,
   "metadata": {},
   "outputs": [],
   "source": [
    "class Topology:\n",
    "    kernel = [[0, 1, 1, 1, 0],\n",
    "            [1, 1, 1, 1, 1],\n",
    "            [1, 1, 1, 1, 1],\n",
    "            [1, 1, 1, 1, 1],\n",
    "            [0, 1, 1, 1, 0]]\n",
    "    kernel = np.asarray(kernel,dtype=np.int32)\n",
    "\n",
    "    def dilation(img, kernel):\n",
    "        res_img = np.zeros(shape=img.shape,dtype=np.uint8)\n",
    "        width = kernel.shape[0]\n",
    "        height = kernel.shape[1]\n",
    "        center = (height//2,width//2)\n",
    "        for row in range(img.shape[0]):\n",
    "            for col in range(img.shape[1]):\n",
    "                res_img[row,col] = img[row,col]\n",
    "                # kernel\n",
    "                max_val = 0\n",
    "                for krow in range(kernel.shape[0]):\n",
    "                    for kcol in range(kernel.shape[1]):\n",
    "                        if kernel[krow,kcol] != 1:\n",
    "                            continue\n",
    "                        x = row + krow-center[0]\n",
    "                        y = col + kcol-center[1]\n",
    "                        if x < 0 or y < 0 or x >= img.shape[0] or y >= img.shape[1]:\n",
    "                            continue\n",
    "                        max_val = img[x,y] if img[x,y] > max_val else max_val\n",
    "                res_img[row,col] = max_val\n",
    "        return res_img\n",
    "\n",
    "    def erosion(img, kernel):\n",
    "        res_img = np.ones(shape=img.shape,dtype=np.uint8)\n",
    "        width = kernel.shape[0]\n",
    "        height = kernel.shape[1]\n",
    "        center = (height//2,width//2)\n",
    "        for row in range(img.shape[0]):\n",
    "            for col in range(img.shape[1]):\n",
    "                res_img[row,col] = img[row,col]\n",
    "                # kernel\n",
    "                min_val = 255\n",
    "                for krow in range(kernel.shape[0]):\n",
    "                    for kcol in range(kernel.shape[1]):\n",
    "                        if kernel[krow,kcol] != 1:\n",
    "                            continue\n",
    "                        x = row + krow-center[0]\n",
    "                        y = col + kcol-center[1]\n",
    "                        if x < 0 or y < 0 or x >= img.shape[0] or y >= img.shape[1]:\n",
    "                            min_val = 0\n",
    "                            break\n",
    "                        min_val = img[x,y] if img[x,y] < min_val else min_val\n",
    "                res_img[row,col] = min_val\n",
    "                        \n",
    "        return res_img\n",
    "    def opening(img, kernel):\n",
    "        return Topology.dilation(Topology.erosion(img,kernel),kernel)\n",
    "    def closing(img, kernel):\n",
    "        return Topology.erosion(Topology.dilation(img,kernel),kernel)"
   ]
  },
  {
   "cell_type": "code",
   "execution_count": 39,
   "metadata": {},
   "outputs": [],
   "source": [
    "def SNR(signal, processed):\n",
    "    # Noramlize\n",
    "    signal = signal.astype(np.float64)\n",
    "    processed = processed.astype(np.float64)\n",
    "    for i in range(signal.shape[1]):\n",
    "        for j in range(signal.shape[0]):\n",
    "            signal[i,j] = signal[i,j] / 255\n",
    "            processed[i,j] = processed[i,j] / 255\n",
    "            \n",
    "    signal_mean = 0.0\n",
    "    signal_var = 0.0\n",
    "    noise_mean = 0.0\n",
    "    noise_var = 0.0\n",
    "\n",
    "    # Mean\n",
    "    for i in range(signal.shape[1]):\n",
    "        for j in range(signal.shape[0]):\n",
    "            signal_mean += signal[i,j]\n",
    "            noise_mean += processed[i,j] - signal[i,j]\n",
    "    signal_mean /= signal.shape[0]*signal.shape[1]\n",
    "    noise_mean /= signal.shape[0]*signal.shape[1]\n",
    "    \n",
    "    # Variance\n",
    "    for i in range(signal.shape[1]):\n",
    "        for j in range(signal.shape[0]):\n",
    "            signal_var += (signal[i,j] - signal_mean)**2\n",
    "            noise_var += (processed[i,j] - signal[i,j] - noise_mean)**2\n",
    "    signal_var /= signal.shape[0]*signal.shape[1]\n",
    "    noise_var /= signal.shape[0]*signal.shape[1]        \n",
    "\n",
    "    return 20*math.log10(math.sqrt(signal_var)/math.sqrt(noise_var))"
   ]
  },
  {
   "cell_type": "code",
   "execution_count": 33,
   "metadata": {},
   "outputs": [],
   "source": [
    "gauss_10 = GaussNoise(raw_img, 0, 1, 10)\n",
    "gauss_30 = GaussNoise(raw_img, 0, 1, 30)\n",
    "sp_005 = SaltAndPepperNoise(raw_img, 0.05)\n",
    "sp_010 = SaltAndPepperNoise(raw_img, 0.10)\n",
    "plt.imsave('a/GaussNoise_10.png',gauss_10, cmap='gray')\n",
    "plt.imsave('a/GaussNoise_30.png',gauss_30, cmap='gray')\n",
    "plt.imsave('b/SaltAndPepper_0.05.png',sp_005, cmap='gray')\n",
    "plt.imsave('b/SaltAndPepper_0.10.png',sp_010, cmap='gray')"
   ]
  },
  {
   "cell_type": "code",
   "execution_count": 41,
   "metadata": {},
   "outputs": [],
   "source": [
    "box_3_a1 = box_filter(gauss_10,(3,3))\n",
    "box_3_a2 = box_filter(gauss_30,(3,3))\n",
    "box_3_b1 = box_filter(sp_005,(3,3))\n",
    "box_3_b2 = box_filter(sp_010,(3,3))\n",
    "plt.imsave('c/BoxFilter_3_a1.png',box_3_a1, cmap='gray')\n",
    "plt.imsave('c/BoxFilter_3_a2.png',box_3_a2, cmap='gray')\n",
    "plt.imsave('c/BoxFilter_3_b1.png',box_3_b1, cmap='gray')\n",
    "plt.imsave('c/BoxFilter_3_b2.png',box_3_b2, cmap='gray')"
   ]
  },
  {
   "cell_type": "code",
   "execution_count": 42,
   "metadata": {},
   "outputs": [],
   "source": [
    "box_5_a1 = box_filter(gauss_10,(5,5))\n",
    "box_5_a2 = box_filter(gauss_30,(5,5))\n",
    "box_5_b1 = box_filter(sp_005,(5,5))\n",
    "box_5_b2 = box_filter(sp_010,(5,5))\n",
    "plt.imsave('c/BoxFilter_5_a1.png',box_5_a1, cmap='gray')\n",
    "plt.imsave('c/BoxFilter_5_a2.png',box_5_a2, cmap='gray')\n",
    "plt.imsave('c/BoxFilter_5_b1.png',box_5_b1, cmap='gray')\n",
    "plt.imsave('c/BoxFilter_5_b2.png',box_5_b2, cmap='gray')"
   ]
  },
  {
   "cell_type": "code",
   "execution_count": 43,
   "metadata": {},
   "outputs": [
    {
     "name": "stderr",
     "output_type": "stream",
     "text": [
      "d:\\anaconda3\\envs\\cv\\Lib\\site-packages\\numpy\\core\\fromnumeric.py:3504: RuntimeWarning: Mean of empty slice.\n",
      "  return _methods._mean(a, axis=axis, dtype=dtype,\n",
      "d:\\anaconda3\\envs\\cv\\Lib\\site-packages\\numpy\\core\\_methods.py:129: RuntimeWarning: invalid value encountered in scalar divide\n",
      "  ret = ret.dtype.type(ret / rcount)\n",
      "C:\\Users\\seanc\\AppData\\Local\\Temp\\ipykernel_25072\\1477168270.py:36: RuntimeWarning: invalid value encountered in cast\n",
      "  ret[r,c] = np.median(val)\n"
     ]
    }
   ],
   "source": [
    "med_3_a1 = median_filter(gauss_10,(3,3))\n",
    "med_3_a2 = median_filter(gauss_30,(3,3))\n",
    "med_3_b1 = median_filter(sp_005,(3,3))\n",
    "med_3_b2 = median_filter(sp_010,(3,3))\n",
    "plt.imsave('d/MedianFilter_3_a1.png',med_3_a1, cmap='gray')\n",
    "plt.imsave('d/MedianFilter_3_a2.png',med_3_a2, cmap='gray')\n",
    "plt.imsave('d/MedianFilter_3_b1.png',med_3_b1, cmap='gray')\n",
    "plt.imsave('d/MedianFilter_3_b2.png',med_3_b2, cmap='gray')"
   ]
  },
  {
   "cell_type": "code",
   "execution_count": 44,
   "metadata": {},
   "outputs": [
    {
     "name": "stderr",
     "output_type": "stream",
     "text": [
      "C:\\Users\\seanc\\AppData\\Local\\Temp\\ipykernel_25072\\1477168270.py:36: RuntimeWarning: invalid value encountered in cast\n",
      "  ret[r,c] = np.median(val)\n"
     ]
    }
   ],
   "source": [
    "med_5_a1 = median_filter(gauss_10,(5,5))\n",
    "med_5_a2 = median_filter(gauss_30,(5,5))\n",
    "med_5_b1 = median_filter(sp_005,(5,5))\n",
    "med_5_b2 = median_filter(sp_010,(5,5))\n",
    "plt.imsave('d/MedianFilter_5_a1.png',med_5_a1, cmap='gray')\n",
    "plt.imsave('d/MedianFilter_5_a2.png',med_5_a2, cmap='gray')\n",
    "plt.imsave('d/MedianFilter_5_b1.png',med_5_b1, cmap='gray')\n",
    "plt.imsave('d/MedianFilter_5_b2.png',med_5_b2, cmap='gray')"
   ]
  },
  {
   "cell_type": "code",
   "execution_count": 36,
   "metadata": {},
   "outputs": [],
   "source": [
    "open_close_a1 = Topology.closing(Topology.opening(gauss_10,Topology.kernel),Topology.kernel)\n",
    "open_close_a2 = Topology.closing(Topology.opening(gauss_30,Topology.kernel),Topology.kernel)\n",
    "open_close_b1 = Topology.closing(Topology.opening(sp_005,Topology.kernel),Topology.kernel)\n",
    "open_close_b2 = Topology.closing(Topology.opening(sp_010,Topology.kernel),Topology.kernel)\n",
    "plt.imsave('e/OpenClose_a1.png',open_close_a1, cmap='gray')\n",
    "plt.imsave('e/OpenClose_a2.png',open_close_a2, cmap='gray')\n",
    "plt.imsave('e/OpenClose_b1.png',open_close_b1, cmap='gray')\n",
    "plt.imsave('e/OpenClose_b2.png',open_close_b2, cmap='gray')"
   ]
  },
  {
   "cell_type": "code",
   "execution_count": 37,
   "metadata": {},
   "outputs": [],
   "source": [
    "close_open_a1 = Topology.opening(Topology.closing(gauss_10,Topology.kernel),Topology.kernel)\n",
    "close_open_a2 = Topology.opening(Topology.closing(gauss_30,Topology.kernel),Topology.kernel)\n",
    "close_open_b1 = Topology.opening(Topology.closing(sp_005,Topology.kernel),Topology.kernel)\n",
    "close_open_b2 = Topology.opening(Topology.closing(sp_010,Topology.kernel),Topology.kernel)\n",
    "plt.imsave('e/CloseOpen_a1.png',close_open_a1, cmap='gray')\n",
    "plt.imsave('e/CloseOpen_a2.png',close_open_a2, cmap='gray')\n",
    "plt.imsave('e/CloseOpen_b1.png',close_open_b1, cmap='gray')\n",
    "plt.imsave('e/CloseOpen_b2.png',close_open_b2, cmap='gray')"
   ]
  },
  {
   "cell_type": "code",
   "execution_count": 45,
   "metadata": {},
   "outputs": [
    {
     "name": "stdout",
     "output_type": "stream",
     "text": [
      "SNR of GaussNoise_10:  13.541082962960402\n",
      "SNR of GaussNoise_30:  2.1813950982469774\n",
      "SNR of SaltAndPepper_0.05:  0.9262006083458202\n",
      "SNR of SaltAndPepper_0.10:  -2.098184789982028\n",
      "SNR of BoxFilter_3_a1:  12.887942143364873\n",
      "SNR of BoxFilter_3_a2:  8.604807617738178\n",
      "SNR of BoxFilter_3_b1:  8.33876070110577\n",
      "SNR of BoxFilter_3_b2:  5.752099397612499\n",
      "SNR of BoxFilter_5_a1:  9.816526662286527\n",
      "SNR of BoxFilter_5_a2:  8.110566631580165\n",
      "SNR of BoxFilter_5_b1:  8.295840799211033\n",
      "SNR of BoxFilter_5_b2:  6.73254919915404\n",
      "SNR of MedianFilter_3_a1:  13.742376912664891\n",
      "SNR of MedianFilter_3_a2:  9.603949611716256\n",
      "SNR of MedianFilter_3_b1:  14.181608726772936\n",
      "SNR of MedianFilter_3_b2:  12.44081166029369\n",
      "SNR of MedianFilter_5_a1:  11.230997477687971\n",
      "SNR of MedianFilter_5_a2:  9.696066500174776\n",
      "SNR of MedianFilter_5_b1:  11.319186995273213\n",
      "SNR of MedianFilter_5_b2:  11.064946138270237\n",
      "SNR of OpenClose_a1:  8.613063944664358\n",
      "SNR of OpenClose_a2:  6.93316716320612\n",
      "SNR of OpenClose_b1:  4.521425920619108\n",
      "SNR of OpenClose_b2:  -2.2934769092416603\n",
      "SNR of CloseOpen_a1:  7.650065007960903\n",
      "SNR of CloseOpen_a2:  4.775484843167558\n",
      "SNR of CloseOpen_b1:  4.0568092456825235\n",
      "SNR of CloseOpen_b2:  -3.0008535082000427\n"
     ]
    }
   ],
   "source": [
    "print(\"SNR of GaussNoise_10: \",SNR(raw_img,gauss_10))\n",
    "print(\"SNR of GaussNoise_30: \",SNR(raw_img,gauss_30))\n",
    "print(\"SNR of SaltAndPepper_0.05: \",SNR(raw_img,sp_005))\n",
    "print(\"SNR of SaltAndPepper_0.10: \",SNR(raw_img,sp_010))\n",
    "print(\"SNR of BoxFilter_3_a1: \",SNR(raw_img,box_3_a1))\n",
    "print(\"SNR of BoxFilter_3_a2: \",SNR(raw_img,box_3_a2))\n",
    "print(\"SNR of BoxFilter_3_b1: \",SNR(raw_img,box_3_b1))\n",
    "print(\"SNR of BoxFilter_3_b2: \",SNR(raw_img,box_3_b2))\n",
    "print(\"SNR of BoxFilter_5_a1: \",SNR(raw_img,box_5_a1))\n",
    "print(\"SNR of BoxFilter_5_a2: \",SNR(raw_img,box_5_a2))\n",
    "print(\"SNR of BoxFilter_5_b1: \",SNR(raw_img,box_5_b1))\n",
    "print(\"SNR of BoxFilter_5_b2: \",SNR(raw_img,box_5_b2))\n",
    "print(\"SNR of MedianFilter_3_a1: \",SNR(raw_img,med_3_a1))\n",
    "print(\"SNR of MedianFilter_3_a2: \",SNR(raw_img,med_3_a2))\n",
    "print(\"SNR of MedianFilter_3_b1: \",SNR(raw_img,med_3_b1))\n",
    "print(\"SNR of MedianFilter_3_b2: \",SNR(raw_img,med_3_b2))\n",
    "print(\"SNR of MedianFilter_5_a1: \",SNR(raw_img,med_5_a1))\n",
    "print(\"SNR of MedianFilter_5_a2: \",SNR(raw_img,med_5_a2))\n",
    "print(\"SNR of MedianFilter_5_b1: \",SNR(raw_img,med_5_b1))\n",
    "print(\"SNR of MedianFilter_5_b2: \",SNR(raw_img,med_5_b2))\n",
    "print(\"SNR of OpenClose_a1: \",SNR(raw_img,open_close_a1))\n",
    "print(\"SNR of OpenClose_a2: \",SNR(raw_img,open_close_a2))\n",
    "print(\"SNR of OpenClose_b1: \",SNR(raw_img,open_close_b1))\n",
    "print(\"SNR of OpenClose_b2: \",SNR(raw_img,open_close_b2))\n",
    "print(\"SNR of CloseOpen_a1: \",SNR(raw_img,close_open_a1))\n",
    "print(\"SNR of CloseOpen_a2: \",SNR(raw_img,close_open_a2))\n",
    "print(\"SNR of CloseOpen_b1: \",SNR(raw_img,close_open_b1))\n",
    "print(\"SNR of CloseOpen_b2: \",SNR(raw_img,close_open_b2))"
   ]
  }
 ],
 "metadata": {
  "kernelspec": {
   "display_name": "Python 3.11.4 ('cv')",
   "language": "python",
   "name": "python3"
  },
  "language_info": {
   "codemirror_mode": {
    "name": "ipython",
    "version": 3
   },
   "file_extension": ".py",
   "mimetype": "text/x-python",
   "name": "python",
   "nbconvert_exporter": "python",
   "pygments_lexer": "ipython3",
   "version": "3.11.4"
  },
  "orig_nbformat": 4,
  "vscode": {
   "interpreter": {
    "hash": "a5a87380f3f6112cf5bd2ea5aea77869da22be1b41f0d1f3e27d41f9d3268dfa"
   }
  }
 },
 "nbformat": 4,
 "nbformat_minor": 2
}
